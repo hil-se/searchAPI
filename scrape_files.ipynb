{
  "nbformat": 4,
  "nbformat_minor": 0,
  "metadata": {
    "colab": {
      "name": "scrape_files.ipynb",
      "provenance": []
    },
    "kernelspec": {
      "name": "python3",
      "display_name": "Python 3"
    }
  },
  "cells": [
    {
      "cell_type": "code",
      "metadata": {
        "id": "4FEgN2UyZy75"
      },
      "source": [
        "import xml.etree.ElementTree as ET\n",
        "import datetime\n",
        "import time\n",
        "import sys\n",
        "from urllib.parse import urlencode\n",
        "from urllib.request import urlopen\n",
        "from urllib.error import HTTPError\n",
        "import pandas as pd\n",
        "\n"
      ],
      "execution_count": 49,
      "outputs": []
    },
    {
      "cell_type": "code",
      "metadata": {
        "id": "w_0XUn78uX7Q"
      },
      "source": [
        "tree1 = ET.parse('/content/query.xml')"
      ],
      "execution_count": 11,
      "outputs": []
    },
    {
      "cell_type": "code",
      "metadata": {
        "id": "jVb11ArPuh2o"
      },
      "source": [
        "root1 = tree1.getroot()"
      ],
      "execution_count": 12,
      "outputs": []
    },
    {
      "cell_type": "code",
      "metadata": {
        "id": "U1zq4teZuXH9",
        "outputId": "9d1bd666-f8a6-49b9-c476-abb64205714b",
        "colab": {
          "base_uri": "https://localhost:8080/"
        }
      },
      "source": [
        "for child in root1:\n",
        "  # print(\"Tag: \")\n",
        "  print (child.tag)\n",
        "  # print(\"\\t Attribute: \")\n",
        "  print(child.attrib)"
      ],
      "execution_count": 13,
      "outputs": [
        {
          "output_type": "stream",
          "text": [
            "{http://www.w3.org/2005/Atom}link\n",
            "{'href': 'http://arxiv.org/api/query?search_query%3Dau%3Adel_maestro%20ANDNOT%20%28ti%3Acheckerboard%20OR%20ti%3APyrochlore%29%26id_list%3D%26start%3D0%26max_results%3D10', 'rel': 'self', 'type': 'application/atom+xml'}\n",
            "{http://www.w3.org/2005/Atom}title\n",
            "{'type': 'html'}\n",
            "{http://www.w3.org/2005/Atom}id\n",
            "{}\n",
            "{http://www.w3.org/2005/Atom}updated\n",
            "{}\n",
            "{http://a9.com/-/spec/opensearch/1.1/}totalResults\n",
            "{}\n",
            "{http://a9.com/-/spec/opensearch/1.1/}startIndex\n",
            "{}\n",
            "{http://a9.com/-/spec/opensearch/1.1/}itemsPerPage\n",
            "{}\n",
            "{http://www.w3.org/2005/Atom}entry\n",
            "{}\n",
            "{http://www.w3.org/2005/Atom}entry\n",
            "{}\n",
            "{http://www.w3.org/2005/Atom}entry\n",
            "{}\n",
            "{http://www.w3.org/2005/Atom}entry\n",
            "{}\n",
            "{http://www.w3.org/2005/Atom}entry\n",
            "{}\n",
            "{http://www.w3.org/2005/Atom}entry\n",
            "{}\n",
            "{http://www.w3.org/2005/Atom}entry\n",
            "{}\n",
            "{http://www.w3.org/2005/Atom}entry\n",
            "{}\n",
            "{http://www.w3.org/2005/Atom}entry\n",
            "{}\n",
            "{http://www.w3.org/2005/Atom}entry\n",
            "{}\n"
          ],
          "name": "stdout"
        }
      ]
    },
    {
      "cell_type": "code",
      "metadata": {
        "id": "yDHS-ct4bLbg"
      },
      "source": [
        "newURL = '{http://arxiv.org/OAI/arXiv/}'\n",
        "W3 = '{http://www.w3.org/2005/Atom}'\n",
        "A9 = '{http://a9.com/-/spec/opensearch/1.1/}'\n",
        "myBASE = 'http://export.arxiv.org/api/query?'"
      ],
      "execution_count": 3,
      "outputs": []
    },
    {
      "cell_type": "code",
      "metadata": {
        "id": "tEQe7XxBbMVK"
      },
      "source": [
        "url = 'http://export.arxiv.org/api/query?search_query=all:network'\n",
        "response = urlopen(url)\n",
        "xml = response.read()"
      ],
      "execution_count": 4,
      "outputs": []
    },
    {
      "cell_type": "code",
      "metadata": {
        "id": "gbfY1YtQbO5i"
      },
      "source": [
        "root = ET.fromstring(xml)\n",
        "records = root.findall(W3 + 'entry')"
      ],
      "execution_count": 5,
      "outputs": []
    },
    {
      "cell_type": "code",
      "metadata": {
        "id": "P3cAVjfIbREB",
        "outputId": "1f38d4f0-949a-4026-a56d-85597dab2bf7",
        "colab": {
          "base_uri": "https://localhost:8080/",
          "height": 36
        }
      },
      "source": [
        "root.tag"
      ],
      "execution_count": 6,
      "outputs": [
        {
          "output_type": "execute_result",
          "data": {
            "application/vnd.google.colaboratory.intrinsic+json": {
              "type": "string"
            },
            "text/plain": [
              "'{http://www.w3.org/2005/Atom}feed'"
            ]
          },
          "metadata": {
            "tags": []
          },
          "execution_count": 6
        }
      ]
    },
    {
      "cell_type": "code",
      "metadata": {
        "id": "WMmXuydwbVvB",
        "outputId": "91b3ba8e-ce8a-414a-dd96-8f5a4652a19f",
        "colab": {
          "base_uri": "https://localhost:8080/"
        }
      },
      "source": [
        "print(records)"
      ],
      "execution_count": 7,
      "outputs": [
        {
          "output_type": "stream",
          "text": [
            "[<Element '{http://www.w3.org/2005/Atom}entry' at 0x7ff61a5285e8>, <Element '{http://www.w3.org/2005/Atom}entry' at 0x7ff61a528bd8>, <Element '{http://www.w3.org/2005/Atom}entry' at 0x7ff61a536368>, <Element '{http://www.w3.org/2005/Atom}entry' at 0x7ff61a536908>, <Element '{http://www.w3.org/2005/Atom}entry' at 0x7ff61a536e08>, <Element '{http://www.w3.org/2005/Atom}entry' at 0x7ff61a0984a8>, <Element '{http://www.w3.org/2005/Atom}entry' at 0x7ff61a098bd8>, <Element '{http://www.w3.org/2005/Atom}entry' at 0x7ff61a09d368>, <Element '{http://www.w3.org/2005/Atom}entry' at 0x7ff61a09dc28>, <Element '{http://www.w3.org/2005/Atom}entry' at 0x7ff61a0a64f8>]\n"
          ],
          "name": "stdout"
        }
      ]
    },
    {
      "cell_type": "code",
      "metadata": {
        "id": "T9-C0Is9ba8O"
      },
      "source": [
        "field = ['id','url','summary','title','author','updated']\n",
        "  # with open('scrape.csv', 'w') as csvfile:\n",
        "  #   writer = csv.DictWriter(csvfile, fieldnames=field)\n",
        "  #   writer.writeheader()\n",
        "  #   writer.writerows(dict)\n",
        "df_op = pd.DataFrame()\n",
        "# print(output.head())\n",
        "for record in records:\n",
        "  meta = Record(record).output()\n",
        "  df_op = df_op.append(meta, ignore_index=True)\n",
        "\n",
        "\n",
        "df_op.to_csv(\"scrape.csv\",index=False)\n",
        " \n"
      ],
      "execution_count": 53,
      "outputs": []
    },
    {
      "cell_type": "code",
      "metadata": {
        "id": "ZCw8WyyCnqtS"
      },
      "source": [
        "class Record(object):\n",
        "\n",
        "  def __init__(self, xml_file):\n",
        "    self.xml = xml_file\n",
        "    self.id = self._get_text(W3, 'id')\n",
        "    self.summary = self._get_text(W3, 'summary')\n",
        "    self.title = self._get_text(W3, 'title')\n",
        "    self.author = self._get_authors()\n",
        "    self.updated = self._get_year()\n",
        "    # self.updated = self._get_text(W3, 'updated')\n",
        "\n",
        "  def _get_text(self, namespace, tag):\n",
        "    try:\n",
        "      return self.xml.find(namespace + tag).text.strip().lower().replace('\\n','.')\n",
        "    except:\n",
        "      return ''\n",
        "\n",
        "  def _get_name(self, parent, attribute):\n",
        "    try: \n",
        "      return parent.find(W3 + attribute).text.lower()\n",
        "    except:\n",
        "      return \"n/a\"\n",
        "\n",
        "  def _get_authors(self):\n",
        "    authors_xml = self.xml.findall(W3 + 'author')\n",
        "    names = [self._get_name(author, 'name') for author in authors_xml]\n",
        "    # first_names = [self._get_name(author, 'forenames') for author in authors_xml]\n",
        "    # full_names = [a+' '+b for a,b in zip(first_names, last_names)]\n",
        "    return names\n",
        "\n",
        "  def _get_year(self):\n",
        "    updated_year = self._get_text(W3, 'updated')\n",
        "    year = updated_year[0:4]\n",
        "    return year\n",
        "\n",
        "  def output(self):\n",
        "    dict = {\n",
        "        'id' : self.id,\n",
        "        'summary' : self.summary,\n",
        "        'title' : self.title,\n",
        "        'author' : self.author,\n",
        "        'updated': self.updated\n",
        "    }\n",
        "    return dict"
      ],
      "execution_count": 45,
      "outputs": []
    },
    {
      "cell_type": "code",
      "metadata": {
        "id": "Txqm1LeGFawI"
      },
      "source": [
        ""
      ],
      "execution_count": null,
      "outputs": []
    }
  ]
}