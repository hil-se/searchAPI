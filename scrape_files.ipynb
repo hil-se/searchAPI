{
  "nbformat": 4,
  "nbformat_minor": 0,
  "metadata": {
    "colab": {
      "name": "scrape_files.ipynb",
      "provenance": []
    },
    "kernelspec": {
      "name": "python3",
      "display_name": "Python 3"
    }
  },
  "cells": [
    {
      "cell_type": "code",
      "metadata": {
        "id": "4FEgN2UyZy75"
      },
      "source": [
        "import xml.etree.ElementTree as ET\n",
        "import datetime\n",
        "import time\n",
        "import sys\n",
        "from urllib.parse import urlencode\n",
        "from urllib.request import urlopen\n",
        "from urllib.error import HTTPError\n",
        "\n"
      ],
      "execution_count": 2,
      "outputs": []
    },
    {
      "cell_type": "code",
      "metadata": {
        "id": "yDHS-ct4bLbg"
      },
      "source": [
        "newURL = '{http://arxiv.org/OAI/arXiv/}'\n",
        "W3 = '{http://www.w3.org/2005/Atom}'\n",
        "A9 = '{http://a9.com/-/spec/opensearch/1.1/}'\n",
        "myBASE = 'http://export.arxiv.org/api/query?'"
      ],
      "execution_count": 3,
      "outputs": []
    },
    {
      "cell_type": "code",
      "metadata": {
        "id": "tEQe7XxBbMVK"
      },
      "source": [
        "url = 'http://export.arxiv.org/api/query?search_query=all:network'\n",
        "response = urlopen(url)\n",
        "xml = response.read()"
      ],
      "execution_count": 4,
      "outputs": []
    },
    {
      "cell_type": "code",
      "metadata": {
        "id": "gbfY1YtQbO5i"
      },
      "source": [
        "root = ET.fromstring(xml)\n",
        "records = root.findall(W3 + 'entry')"
      ],
      "execution_count": 5,
      "outputs": []
    },
    {
      "cell_type": "code",
      "metadata": {
        "id": "P3cAVjfIbREB",
        "outputId": "1f38d4f0-949a-4026-a56d-85597dab2bf7",
        "colab": {
          "base_uri": "https://localhost:8080/",
          "height": 36
        }
      },
      "source": [
        "root.tag"
      ],
      "execution_count": 6,
      "outputs": [
        {
          "output_type": "execute_result",
          "data": {
            "application/vnd.google.colaboratory.intrinsic+json": {
              "type": "string"
            },
            "text/plain": [
              "'{http://www.w3.org/2005/Atom}feed'"
            ]
          },
          "metadata": {
            "tags": []
          },
          "execution_count": 6
        }
      ]
    },
    {
      "cell_type": "code",
      "metadata": {
        "id": "WMmXuydwbVvB",
        "outputId": "91b3ba8e-ce8a-414a-dd96-8f5a4652a19f",
        "colab": {
          "base_uri": "https://localhost:8080/"
        }
      },
      "source": [
        "print(records)"
      ],
      "execution_count": 7,
      "outputs": [
        {
          "output_type": "stream",
          "text": [
            "[<Element '{http://www.w3.org/2005/Atom}entry' at 0x7ff61a5285e8>, <Element '{http://www.w3.org/2005/Atom}entry' at 0x7ff61a528bd8>, <Element '{http://www.w3.org/2005/Atom}entry' at 0x7ff61a536368>, <Element '{http://www.w3.org/2005/Atom}entry' at 0x7ff61a536908>, <Element '{http://www.w3.org/2005/Atom}entry' at 0x7ff61a536e08>, <Element '{http://www.w3.org/2005/Atom}entry' at 0x7ff61a0984a8>, <Element '{http://www.w3.org/2005/Atom}entry' at 0x7ff61a098bd8>, <Element '{http://www.w3.org/2005/Atom}entry' at 0x7ff61a09d368>, <Element '{http://www.w3.org/2005/Atom}entry' at 0x7ff61a09dc28>, <Element '{http://www.w3.org/2005/Atom}entry' at 0x7ff61a0a64f8>]\n"
          ],
          "name": "stdout"
        }
      ]
    },
    {
      "cell_type": "code",
      "metadata": {
        "id": "T9-C0Is9ba8O"
      },
      "source": [
        "for record in records:\n",
        "  meta = record.find(W3 + 'summary')\n",
        "  "
      ],
      "execution_count": null,
      "outputs": []
    }
  ]
}